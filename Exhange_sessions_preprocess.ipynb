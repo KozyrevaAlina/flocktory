{
  "nbformat": 4,
  "nbformat_minor": 0,
  "metadata": {
    "colab": {
      "provenance": [],
      "machine_shape": "hm"
    },
    "kernelspec": {
      "name": "python3",
      "display_name": "Python 3"
    },
    "language_info": {
      "name": "python"
    }
  },
  "cells": [
    {
      "cell_type": "code",
      "execution_count": null,
      "metadata": {
        "colab": {
          "base_uri": "https://localhost:8080/"
        },
        "id": "lWWzCrbhXewm",
        "outputId": "b5cf78cb-51fe-4b9b-cac9-a5aeded7c4e9"
      },
      "outputs": [
        {
          "output_type": "stream",
          "name": "stdout",
          "text": [
            "Mounted at /content/drive\n"
          ]
        }
      ],
      "source": [
        "from google.colab import drive\n",
        "drive.mount('/content/drive')"
      ]
    },
    {
      "cell_type": "code",
      "source": [
        "import re\n",
        "import json\n",
        "\n",
        "import pandas as pd\n",
        "from scipy.sparse import save_npz"
      ],
      "metadata": {
        "id": "b4NtH1JsZbB3"
      },
      "execution_count": null,
      "outputs": []
    },
    {
      "cell_type": "code",
      "source": [
        "WORKSPACE_PATH = '/content/drive/MyDrive/AnnaPadalko/'\n",
        "WORKSPACE_TMP_PATH = WORKSPACE_PATH + 'tmp/'\n",
        "\n",
        "INPUT_PATH = WORKSPACE_PATH + 'input/'\n",
        "TEST_INPUT_PATH = INPUT_PATH + 'test.json'\n",
        "VAL_INPUT_PATH = INPUT_PATH + 'val.json'\n",
        "TRAIN_INPUT_PATH = INPUT_PATH + 'train.json'\n",
        "GEN_CAT_MAPPING_INPUT_PATH = INPUT_PATH + 'general_categories_mapping.json'"
      ],
      "metadata": {
        "id": "Kkf1239hXijx"
      },
      "execution_count": null,
      "outputs": []
    },
    {
      "cell_type": "code",
      "source": [
        "with open(TRAIN_INPUT_PATH) as file:\n",
        "    train_file = file.read()\n",
        "\n",
        "train_json = json.loads(train_file)\n",
        "\n",
        "with open(GEN_CAT_MAPPING_INPUT_PATH) as file:\n",
        "    gen_cat_file = file.read()\n",
        "\n",
        "gen_cat_json = json.loads(gen_cat_file)\n",
        "gen_cat_df = pd.DataFrame(list(gen_cat_json.items()), columns=['mapping', 'category'])"
      ],
      "metadata": {
        "id": "ai5dCmtdYnUL"
      },
      "execution_count": null,
      "outputs": []
    },
    {
      "cell_type": "code",
      "source": [
        "# Регулярное выражение для женских категорий\n",
        "female_pattern = '|'.join([\"женщин\", \"девуш\", \"девоч\", \"женск\", \"дам\", \"барышн\", \"государы\"])\n",
        "# Фильтрация для женских категорий\n",
        "gen_cat_women_df = gen_cat_df[gen_cat_df['category'].str.lower().str.contains(female_pattern, na=False)]\n",
        "\n",
        "# Регулярное выражение для мужских категорий\n",
        "male_pattern = '|'.join([\"мужч\", \"мальч\", \"мужск\", \"юнош\", \"господар\"])\n",
        "# Фильтрация для мужских категорий\n",
        "gen_cat_men_df = gen_cat_df[gen_cat_df['category'].str.lower().str.contains(male_pattern, na=False)]"
      ],
      "metadata": {
        "id": "A2Z8J9VSZd0e"
      },
      "execution_count": null,
      "outputs": []
    },
    {
      "cell_type": "code",
      "source": [
        "def collect_keys(d, parent_key='', sep='.'):\n",
        "    keys = []\n",
        "    for k, v in d.items():\n",
        "        if not isinstance(k, str):\n",
        "            continue\n",
        "\n",
        "        new_key = f\"{parent_key}{sep}{k}\" if parent_key else k\n",
        "        if isinstance(v, dict):\n",
        "            keys.extend(collect_keys(v, new_key, sep=sep))\n",
        "        elif isinstance(v, list):\n",
        "            for item in v:\n",
        "                if isinstance(item, dict):\n",
        "                    keys.extend(collect_keys(item, new_key, sep=sep))\n",
        "        else:\n",
        "            keys.append(new_key)\n",
        "    return keys\n",
        "\n",
        "def remove_user_prefix(keys, pattern, sep='.'):\n",
        "    processed_keys = []\n",
        "    for key in keys:\n",
        "        if isinstance(key, str):\n",
        "            parts = key.split(sep)\n",
        "            if re.match(pattern, parts[0]):\n",
        "                processed_keys.append(sep.join(parts[1:]))\n",
        "            else:\n",
        "                processed_keys.append(key)\n",
        "        elif isinstance(key, tuple):\n",
        "            processed_key = tuple(remove_user_prefix(list(key), pattern))\n",
        "            processed_keys.append(processed_key)\n",
        "        else:\n",
        "            processed_keys.append(key)\n",
        "    return processed_keys"
      ],
      "metadata": {
        "id": "5bta-VQaamas"
      },
      "execution_count": null,
      "outputs": []
    },
    {
      "cell_type": "code",
      "source": [
        "keys = collect_keys(train_json)\n",
        "pattern = r'^user_\\d+'\n",
        "keys = remove_user_prefix(keys, pattern)\n",
        "keys = list(set(keys))\n",
        "keys.sort()\n",
        "keys"
      ],
      "metadata": {
        "colab": {
          "base_uri": "https://localhost:8080/"
        },
        "id": "6OClWVUMamWx",
        "outputId": "c3d4b761-f2a7-419d-ea73-d153bddc0080"
      },
      "execution_count": null,
      "outputs": [
        {
          "output_type": "execute_result",
          "data": {
            "text/plain": [
              "['features.exchange-sessions.accepted-at',\n",
              " 'features.exchange-sessions.accepted-site-id',\n",
              " 'features.exchange-sessions.clicks.clicked-at',\n",
              " 'features.exchange-sessions.clicks.site-id',\n",
              " 'features.exchange-sessions.landed-at',\n",
              " 'features.last-visits-in-categories.category',\n",
              " 'features.last-visits-in-categories.last-visit-at',\n",
              " 'features.orders.orders.created-at',\n",
              " 'features.orders.orders.items.brand-id',\n",
              " 'features.orders.orders.items.count',\n",
              " 'features.orders.orders.items.id',\n",
              " 'features.orders.site-id',\n",
              " 'features.site-meta.frequency',\n",
              " 'features.site-meta.monetary',\n",
              " 'features.site-meta.recency',\n",
              " 'features.site-meta.site-id',\n",
              " 'features.visits.first-seen',\n",
              " 'features.visits.last-seen',\n",
              " 'features.visits.site-id',\n",
              " 'features.visits.visits.pages-count',\n",
              " 'features.visits.visits.session-duration',\n",
              " 'features.visits.visits.visited-at',\n",
              " 'target']"
            ]
          },
          "metadata": {},
          "execution_count": 7
        }
      ]
    },
    {
      "cell_type": "code",
      "source": [
        "first_five_pairs = list(train_json.items())[5:6]\n",
        "\n",
        "for key, value in first_five_pairs:\n",
        "    print(f\"{key}: {value}\\n\\n\")"
      ],
      "metadata": {
        "colab": {
          "base_uri": "https://localhost:8080/"
        },
        "id": "bIjOr750xJ1V",
        "outputId": "c25a2a77-5ded-4a0f-fe9f-1c150c0ee69d"
      },
      "execution_count": null,
      "outputs": [
        {
          "output_type": "stream",
          "name": "stdout",
          "text": [
            "user_6: {'target': 'female', 'features': {'orders': [{'site-id': 123, 'orders': [{'created-at': 1630352618, 'items': [{'id': 'item_75', 'count': 1, 'general-category-path': [7812065, 7812006, 7811879, 7877999], 'brand-id': 2458}, {'id': 'item_76', 'count': 1, 'general-category-path': [7811945, 7811896, 7811873, 7877999], 'brand-id': 2458}, {'id': 'item_77', 'count': 1, 'general-category-path': [7811945, 7811896, 7811873, 7877999], 'brand-id': 2458}]}, {'created-at': 1648999970, 'items': [{'id': 'item_78', 'count': 1, 'general-category-path': [7811945, 7811896, 7811873, 7877999], 'brand-id': 2458}, {'id': 'item_79', 'count': 1, 'general-category-path': [7811903, 7811873, 7877999], 'brand-id': 2458}]}, {'created-at': 1653315536, 'items': [{'id': 'item_80', 'count': 1, 'general-category-path': [7811945, 7811896, 7811873, 7877999], 'brand-id': 2458}, {'id': 'item_81', 'count': 1, 'general-category-path': [7812156, 7811877, 7877999], 'brand-id': 2458}]}]}, {'site-id': 50, 'orders': [{'created-at': 1644170372, 'items': [{'id': 'item_82', 'count': 1, 'general-category-path': [84758401, 8475840], 'brand-id': 40722}]}, {'created-at': 1646471455, 'items': [{'id': 'item_83', 'count': 3, 'general-category-path': [819388, 819384, 819000, 8475840], 'brand-id': 52667}, {'id': 'item_84', 'count': 2, 'general-category-path': [819385, 819384, 819000, 8475840], 'brand-id': 34388}, {'id': 'item_85', 'count': 1, 'general-category-path': [819030, 819027, 819000, 8475840], 'brand-id': 53410}, {'id': 'item_86', 'count': 1, 'general-category-path': [15368134, 16044336, 91391, 91325, 91307], 'brand-id': 54161}, {'id': 'item_87', 'count': 1, 'general-category-path': [819408, 819407, 819000, 8475840], 'brand-id': 34399}, {'id': 'item_88', 'count': 1, 'general-category-path': [819394, 819384, 819000, 8475840], 'brand-id': 36875}]}, {'created-at': 1646934525, 'items': [{'id': 'item_89', 'count': 2, 'general-category-path': [91174, 91172, 90509]}, {'id': 'item_90', 'count': 2, 'general-category-path': [91174, 91172, 90509], 'brand-id': 34625}, {'id': 'item_91', 'count': 1, 'general-category-path': [91174, 91172, 90509]}]}, {'created-at': 1648325979, 'items': [{'id': 'item_92', 'count': 1, 'general-category-path': [819172, 819166, 819000, 8475840], 'brand-id': 32338}]}, {'created-at': 1655705087, 'items': [{'id': 'item_93', 'count': 1, 'general-category-path': [819443, 819436, 819000, 8475840], 'brand-id': 35143}, {'id': 'item_94', 'count': 1, 'general-category-path': [819443, 819436, 819000, 8475840], 'brand-id': 35143}]}, {'created-at': 1660831788, 'items': [{'id': 'item_95', 'count': 1}, {'id': 'item_96', 'count': 1, 'general-category-path': [91174, 91172, 90509], 'brand-id': 30247}, {'id': 'item_97', 'count': 1, 'general-category-path': [91174, 91172, 90509], 'brand-id': 30247}]}, {'created-at': 1671804517, 'items': [{'id': 'item_98', 'count': 1, 'general-category-path': [819168, 819166, 819000, 8475840], 'brand-id': 32312}]}, {'created-at': 1671873078, 'items': [{'id': 'item_99', 'count': 1, 'general-category-path': [819110, 819109, 819000, 8475840], 'brand-id': 38833}]}]}, {'site-id': 21, 'orders': [{'created-at': 1578392064, 'items': []}, {'created-at': 1698263529, 'items': []}]}, {'site-id': 150, 'orders': [{'created-at': 1509304423, 'items': [{'id': 'item_100', 'count': 1}, {'id': 'item_101', 'count': 1}, {'id': 'item_102', 'count': 1}]}, {'created-at': 1521905529, 'items': [{'id': 'item_103', 'count': 1}]}, {'created-at': 1596455455, 'items': [{'id': 'item_104', 'count': 1, 'general-category-path': [7286125, 90679, 6179129, 90666], 'brand-id': 3154}]}]}, {'site-id': 146, 'orders': [{'created-at': 1658944468, 'items': [{'id': 'item_105', 'count': 1, 'general-category-path': [8478954, 8478945, 91157, 90509], 'brand-id': 3859}, {'id': 'item_106', 'count': 1, 'general-category-path': [13238924, 8478945, 91157, 90509], 'brand-id': 3859}, {'id': 'item_107', 'count': 1, 'general-category-path': [13238924, 8478945, 91157, 90509], 'brand-id': 3859}, {'id': 'item_108', 'count': 1, 'general-category-path': [14990252, 8478945, 91157, 90509], 'brand-id': 3859}, {'id': 'item_109', 'count': 1, 'general-category-path': [4748066, 4748054, 91159, 91157, 90509], 'brand-id': 1423}, {'id': 'item_110', 'count': 1, 'general-category-path': [4748066, 4748054, 91159, 91157, 90509], 'brand-id': 3854}, {'id': 'item_111', 'count': 1, 'general-category-path': [4748066, 4748054, 91159, 91157, 90509], 'brand-id': 3854}, {'id': 'item_112', 'count': 1, 'general-category-path': [91183, 91182, 91157, 90509], 'brand-id': 11725}, {'id': 'item_113', 'count': 1, 'general-category-path': [14989652, 91186, 91157, 90509], 'brand-id': 11725}, {'id': 'item_114', 'count': 1, 'general-category-path': [91183, 91182, 91157, 90509], 'brand-id': 11725}]}]}, {'site-id': 151, 'orders': [{'created-at': 1505938060, 'items': [{'id': 'item_115', 'count': 1}, {'id': 'item_116', 'count': 1}]}, {'created-at': 1558098127, 'items': [{'id': 'item_117', 'count': 1, 'general-category-path': [14220661, 14459154, 91528, 91512], 'brand-id': 2213}, {'id': 'item_118', 'count': 1, 'general-category-path': [15687312, 91728, 12333570, 1618974, 91597, 90666], 'brand-id': 6382}, {'id': 'item_116', 'count': 1}]}, {'created-at': 1585941781, 'items': [{'id': 'item_119', 'count': 3, 'general-category-path': [13792285, 13792950, 90719, 90666], 'brand-id': 10472}, {'id': 'item_116', 'count': 1}]}]}, {'site-id': 22, 'orders': [{'created-at': 1628143930, 'items': [{'id': 'item_120', 'count': 1}]}, {'created-at': 1637497228, 'items': [{'id': 'item_121', 'count': 1, 'general-category-path': [15450084, 90594, 10606704, 198118], 'brand-id': 2347}]}]}], 'visits': [{'site-id': 21, 'first-seen': 1698263297, 'last-seen': 1698263439, 'visits': [{'visited-at': 1698263297, 'session-duration': 70, 'pages-count': 3}, {'visited-at': 1698263439, 'session-duration': 90, 'pages-count': 2}]}, {'site-id': 205, 'first-seen': 1691002123, 'last-seen': 1691002123, 'visits': [{'visited-at': 1691002123, 'session-duration': 0, 'pages-count': 1}]}, {'site-id': 123, 'first-seen': 1629743714, 'last-seen': 1696963100, 'visits': [{'visited-at': 1653416407, 'session-duration': 0, 'pages-count': 1, 'visited-items': ['item_122'], 'visited-general-categories': ['7877999', '7811947', '7811896', '7811873'], 'visited-universal-brands': ['11706']}, {'visited-at': 1653508527, 'session-duration': 12, 'pages-count': 4}, {'visited-at': 1658249904, 'session-duration': 0, 'pages-count': 1, 'visited-items': ['item_123']}, {'visited-at': 1658898982, 'session-duration': 0, 'pages-count': 1, 'visited-items': ['item_124'], 'visited-general-categories': ['7877999', '7811896', '7811873', '7811945'], 'visited-universal-brands': ['2458']}, {'visited-at': 1666284385, 'session-duration': 0, 'pages-count': 1}, {'visited-at': 1669370083, 'session-duration': 469, 'pages-count': 18, 'visited-items': ['item_125', 'item_126', 'item_127', 'item_128', 'item_129'], 'visited-general-categories': ['7811935', '7811893', '7877999', '7811873'], 'visited-universal-brands': ['9482']}, {'visited-at': 1673724184, 'session-duration': 0, 'pages-count': 1}, {'visited-at': 1674026065, 'session-duration': 0, 'pages-count': 1}, {'visited-at': 1684348174, 'session-duration': 1, 'pages-count': 1}, {'visited-at': 1696963100, 'session-duration': 0, 'pages-count': 1}]}, {'site-id': 206, 'first-seen': 1691621450, 'last-seen': 1691621450, 'visits': [{'visited-at': 1691621450, 'session-duration': 0, 'pages-count': 1}]}, {'site-id': 16, 'first-seen': 1692125094, 'last-seen': 1692125094, 'visits': [{'visited-at': 1692125094, 'session-duration': 0, 'pages-count': 1, 'visited-items': ['item_130'], 'visited-general-categories': ['90579', '12327560', '198118', '90599'], 'visited-universal-brands': ['13683']}]}, {'site-id': 63, 'first-seen': 1685425375, 'last-seen': 1685425375, 'visits': [{'visited-at': 1685425375, 'session-duration': 570, 'pages-count': 9, 'visited-items': ['item_131', 'item_132', 'item_133']}]}, {'site-id': 207, 'first-seen': 1698263971, 'last-seen': 1698263971, 'visits': [{'visited-at': 1698263971, 'session-duration': 0, 'pages-count': 1}]}, {'site-id': 3, 'first-seen': 1684269073, 'last-seen': 1698263812, 'visits': [{'visited-at': 1684269073, 'session-duration': 0, 'pages-count': 1}, {'visited-at': 1696439348, 'session-duration': 0, 'pages-count': 1}, {'visited-at': 1696444642, 'session-duration': 0, 'pages-count': 1}, {'visited-at': 1696444904, 'session-duration': 0, 'pages-count': 1}, {'visited-at': 1698263812, 'session-duration': 380, 'pages-count': 2}]}, {'site-id': 208, 'first-seen': 1688924774, 'last-seen': 1688968227, 'visits': [{'visited-at': 1688924774, 'session-duration': 0, 'pages-count': 1}, {'visited-at': 1688968227, 'session-duration': 0, 'pages-count': 1}]}, {'site-id': 209, 'first-seen': 1694155185, 'last-seen': 1694155185, 'visits': [{'visited-at': 1694155185, 'session-duration': 0, 'pages-count': 1, 'visited-items': ['item_134']}]}], 'site-meta': [{'site-id': 146, 'recency': 1, 'frequency': 1, 'monetary': 4}, {'site-id': 50, 'recency': 2, 'frequency': 5, 'monetary': 4}, {'site-id': 150, 'recency': 1, 'frequency': 3, 'monetary': 3}, {'site-id': 21, 'recency': 1, 'frequency': 1, 'monetary': 5}, {'site-id': 151, 'recency': 1, 'frequency': 3, 'monetary': 4}, {'site-id': 210}, {'site-id': 123, 'recency': 1, 'frequency': 3, 'monetary': 4}, {'site-id': 211}, {'site-id': 16}, {'site-id': 3}, {'site-id': 148}, {'site-id': 22, 'recency': 1, 'frequency': 2, 'monetary': 3}, {'site-id': 212}, {'site-id': 213}], 'exchange-sessions': [{'landed-at': 1698263812, 'sites': [169, 214, 215, 216, 217, 218, 1, 219, 220, 221, 71, 222, 2, 223, 13, 224, 225, 226, 227, 228, 229, 230, 231, 232, 233, 234, 103, 235, 236, 108, 104, 237, 238, 239, 240, 241, 242, 243, 48, 162, 244, 245, 246, 247, 248, 249, 86, 250, 251, 252, 168, 253, 93, 137, 254, 106, 255, 15, 138, 256, 144, 257, 98, 258, 107, 153, 259, 171, 24, 61, 260, 261, 94, 79, 262, 263, 264, 265, 266, 135, 6, 267, 95, 129, 268, 269, 270, 100, 271, 272, 273, 123, 274, 12, 275, 276, 89, 125, 277, 110, 278, 28, 279, 280, 112, 281, 90, 282, 283, 136, 42, 284, 285, 45, 31, 16, 65, 286, 287, 288, 140, 289, 158, 290, 68, 198, 291, 22, 207, 292, 293, 294, 295, 146, 7, 296, 297, 298, 299, 173, 300, 156, 23, 34, 301, 120, 302, 128, 303, 51, 304, 305, 127, 306, 307, 62, 91, 11, 160, 308, 148, 309, 310, 49, 139, 147, 311, 205, 121, 312, 313, 102, 134, 200, 314, 315, 29, 117, 316, 317, 176, 318, 199, 319, 320, 321, 322, 323, 37], 'clicks': [{'clicked-at': 1698263944, 'site-id': 207}], 'accepted-site-id': 207, 'accepted-at': 1698263967}, {'landed-at': 1658944504, 'sites': [46, 21, 29, 78, 180, 158, 42, 74, 1, 119, 22, 89, 2, 98, 58, 110, 71, 324, 325, 51, 91, 171, 79, 100, 159, 173, 326, 81, 163, 111, 137, 184, 141, 40, 107, 62, 6, 275, 37, 278, 90, 263, 253, 245, 260, 129, 327, 269, 251, 168, 270, 223, 126, 200, 113, 49, 257, 328, 16, 313, 151, 284, 329, 123, 298, 198, 330, 331, 156, 262, 97, 332, 83, 271, 169, 125, 333, 140, 334, 161, 155, 138, 319, 272, 43, 121, 160, 94, 243, 314, 153, 147, 48, 199, 317, 84, 24, 152, 12, 106, 167, 86, 144, 148, 31, 102, 142], 'clicks': [{'clicked-at': 1658944723, 'site-id': 1}], 'accepted-site-id': 1, 'accepted-at': 1658944733}, {'landed-at': 1646471462, 'sites': [326, 71, 2, 1, 21, 171, 31, 74, 80, 325, 335, 79, 161, 141, 103, 86, 84, 82, 68, 90, 135, 85, 81, 155, 58, 95, 93, 89, 160, 48, 22, 180, 88, 24, 167, 163, 146, 87, 110, 159, 122, 247, 42, 111, 113, 12, 117, 102, 144, 123, 133, 7, 39, 156, 125, 61, 169, 129, 128, 98, 127, 6, 132, 170, 137, 78, 314, 91, 173, 138, 140, 119, 96, 46, 51, 118, 317, 114, 62, 154, 147, 9, 34, 148, 37, 284, 134, 142, 100, 106, 107, 75]}, {'landed-at': 1644170436, 'sites': [326, 71, 2, 1, 21, 48, 336, 74, 75, 79, 92, 80, 161, 78, 31, 337, 86, 83, 82, 180, 81, 58, 90, 135, 162, 85, 84, 88, 43, 160, 163, 91, 100, 95, 96, 98, 151, 164, 154, 89, 167, 12, 103, 146, 159, 104, 68, 22, 106, 165, 42, 77, 110, 111, 114, 115, 116, 27, 133, 131, 6, 29, 39, 132, 168, 129, 125, 156, 126, 127, 7, 130, 61, 142, 171, 141, 139, 144, 157, 138, 173, 325, 140, 134, 137, 45, 118, 119, 120, 122, 44, 35, 51, 147, 46, 62, 148, 153, 149, 49, 152, 9, 34, 155, 37, 24, 169, 113, 97, 87, 93, 102], 'clicks': [{'clicked-at': 1644170563, 'site-id': 21}]}, {'landed-at': 1630352621, 'sites': [21, 31, 74, 83, 90, 146, 88, 98, 80, 180, 46, 93, 105, 91, 12, 50, 86, 71, 337, 34, 159, 108, 200, 145, 170, 139, 95, 160, 110, 148, 120, 89, 338, 58, 119, 1, 176, 99, 168, 163, 96, 84, 151, 158, 118, 42, 122, 79, 173, 149, 317, 11, 104, 6, 112, 37, 154, 62, 319, 115, 103, 40, 157, 49, 117, 116, 45, 121, 51, 22, 81, 111, 134, 114, 8, 184, 109, 174, 155, 162, 92, 147, 97], 'clicks': [{'clicked-at': 1630352688, 'site-id': 21}], 'accepted-site-id': 21, 'accepted-at': 1630352691}, {'landed-at': 1596455506, 'sites': [80, 180, 97, 151, 174, 159, 40, 81, 199, 21, 50, 175, 49, 58, 91, 181, 337, 9, 105, 184, 119, 173, 12, 95, 110, 96, 141, 93, 76, 146, 114, 99, 167, 25, 130, 136, 339, 132, 43, 5, 51, 77, 338, 68, 84, 109, 188, 11, 79, 37, 6, 200, 176, 45, 164, 165, 87, 120, 186, 340, 148, 317, 172, 155, 122, 35, 85, 31, 192, 128, 204], 'clicks': [{'clicked-at': 1596455528, 'site-id': 151}]}, {'landed-at': 1578392090, 'sites': [34, 188, 179, 81, 174, 46, 175, 181, 208, 86, 199, 173, 96, 183, 93, 9, 112, 50, 132, 146, 87, 98, 177, 130, 141, 88, 76, 147, 49, 148, 95, 27, 151, 25, 6, 110, 91, 62, 99, 79, 57, 200, 338, 167, 136, 118, 160, 100, 103, 198, 119, 11, 155, 68, 35, 186, 120, 203, 190, 56, 192, 128, 204], 'clicks': [{'clicked-at': 1578392170, 'site-id': 34}], 'accepted-site-id': 34, 'accepted-at': 1578392173}, {'landed-at': 1509304461, 'sites': [37, 337, 184, 341, 5, 147, 342, 79, 93, 343, 57, 201, 58, 187, 179, 81, 317, 195, 40, 123, 193, 130, 91, 177, 22, 76, 183, 344, 345, 190, 8, 173, 202, 174, 182, 199, 34, 197, 114, 96, 192, 49, 55, 16, 6, 186, 346, 46, 151, 68], 'clicks': [{'clicked-at': 1509304683, 'site-id': 16}, {'clicked-at': 1509304764, 'site-id': 16}], 'accepted-site-id': 16, 'accepted-at': 1509304766}], 'last-visits-in-categories': [{'category': 'furniture', 'last-visit-at': 1676655814}, {'category': 'shoes', 'last-visit-at': 1671879835}, {'category': 'fashion', 'last-visit-at': 1696963100}, {'category': 'other', 'last-visit-at': 1698263812}, {'category': 'bank', 'last-visit-at': 1658944735}, {'category': 'travel', 'last-visit-at': 1678730881}, {'category': 'household_appliances', 'last-visit-at': 1648296342}, {'category': 'food', 'last-visit-at': 1635870434}, {'category': 'electronics', 'last-visit-at': 1637489291}, {'category': 'cosmetics', 'last-visit-at': 1636962627}, {'category': 'hypermarket', 'last-visit-at': 1636964185}, {'category': 'kids', 'last-visit-at': 1641137586}, {'category': 'entertainment_services', 'last-visit-at': 1641062768}, {'category': 'health', 'last-visit-at': 1637124703}]}}\n",
            "\n",
            "\n"
          ]
        }
      ]
    },
    {
      "cell_type": "markdown",
      "source": [
        "```\n",
        "      feat1               feat2  \n",
        "user1 agg(sessions_feat1) agg(sessions_feat2)  \n",
        "user2 agg(sessions_feat1) agg(sessions_feat2)  \n",
        "```"
      ],
      "metadata": {
        "id": "Iz5OZbSZECop"
      }
    },
    {
      "cell_type": "code",
      "source": [
        "import numpy as np"
      ],
      "metadata": {
        "id": "oIayY8tGByuj"
      },
      "execution_count": null,
      "outputs": []
    },
    {
      "cell_type": "code",
      "source": [
        "aggregated_features = {}\n",
        "\n",
        "for user_record in list(train_json.items()):\n",
        "    user_id = user_record[0]\n",
        "\n",
        "    if 'features' not in user_record[1]:\n",
        "        continue\n",
        "\n",
        "    if 'exchange-sessions' not in user_record[1]['features']:\n",
        "        continue\n",
        "\n",
        "    exchange_sessions = user_record[1]['features']['exchange-sessions']\n",
        "\n",
        "    unique_sites = set()\n",
        "    total_sites = 0\n",
        "    for session in exchange_sessions:\n",
        "        total_sites += len(session['sites'])\n",
        "        unique_sites.update(session['sites'])\n",
        "    total_unique_sites = len(unique_sites)\n",
        "    unique_sites_fraction = total_unique_sites / total_sites\n",
        "\n",
        "    total_conversions = sum(1 for session in exchange_sessions if 'accepted-site-id' in session)\n",
        "    conversion_rate = total_conversions / len(exchange_sessions) if exchange_sessions else 0\n",
        "\n",
        "    total_sessions = len(exchange_sessions)\n",
        "\n",
        "    avg_time_to_action = None\n",
        "    time_to_action = []\n",
        "    for session in exchange_sessions:\n",
        "        if 'accepted-at' not in session:\n",
        "            continue\n",
        "        time_to_action.append(session['accepted-at'] - session['landed-at'])\n",
        "    if time_to_action:\n",
        "      avg_time_to_action = np.mean(time_to_action)\n",
        "\n",
        "    aggregated_features[user_id] = {\n",
        "        'total_unique_sites': total_unique_sites,\n",
        "        'conversion_rate': conversion_rate,\n",
        "        'total_sessions': total_sessions,\n",
        "        'avg_time_to_action': avg_time_to_action,\n",
        "        'unique_sites_fraction': unique_sites_fraction,\n",
        "    }"
      ],
      "metadata": {
        "id": "F4BojSUd_IgT"
      },
      "execution_count": null,
      "outputs": []
    },
    {
      "cell_type": "code",
      "source": [
        "df_exchange_sessions = pd.DataFrame(aggregated_features).T\n",
        "df_exchange_sessions.head()"
      ],
      "metadata": {
        "colab": {
          "base_uri": "https://localhost:8080/",
          "height": 206
        },
        "id": "7FRILL5L_IAy",
        "outputId": "381bad70-d209-45c1-b16d-2d79eda51255"
      },
      "execution_count": null,
      "outputs": [
        {
          "output_type": "execute_result",
          "data": {
            "text/plain": [
              "         total_unique_sites  conversion_rate  total_sessions  \\\n",
              "user_6                300.0         0.625000             8.0   \n",
              "user_11               119.0         1.000000             1.0   \n",
              "user_15                66.0         1.000000             1.0   \n",
              "user_20               185.0         1.000000             1.0   \n",
              "user_21               256.0         0.888889             9.0   \n",
              "\n",
              "         avg_time_to_action  unique_sites_fraction  \n",
              "user_6              168.400               0.391134  \n",
              "user_11              24.000               1.000000  \n",
              "user_15              55.000               1.000000  \n",
              "user_20              97.000               1.000000  \n",
              "user_21              63.875               0.218803  "
            ],
            "text/html": [
              "\n",
              "  <div id=\"df-5fcf48de-8fde-4b58-8704-168ea8581f1d\" class=\"colab-df-container\">\n",
              "    <div>\n",
              "<style scoped>\n",
              "    .dataframe tbody tr th:only-of-type {\n",
              "        vertical-align: middle;\n",
              "    }\n",
              "\n",
              "    .dataframe tbody tr th {\n",
              "        vertical-align: top;\n",
              "    }\n",
              "\n",
              "    .dataframe thead th {\n",
              "        text-align: right;\n",
              "    }\n",
              "</style>\n",
              "<table border=\"1\" class=\"dataframe\">\n",
              "  <thead>\n",
              "    <tr style=\"text-align: right;\">\n",
              "      <th></th>\n",
              "      <th>total_unique_sites</th>\n",
              "      <th>conversion_rate</th>\n",
              "      <th>total_sessions</th>\n",
              "      <th>avg_time_to_action</th>\n",
              "      <th>unique_sites_fraction</th>\n",
              "    </tr>\n",
              "  </thead>\n",
              "  <tbody>\n",
              "    <tr>\n",
              "      <th>user_6</th>\n",
              "      <td>300.0</td>\n",
              "      <td>0.625000</td>\n",
              "      <td>8.0</td>\n",
              "      <td>168.400</td>\n",
              "      <td>0.391134</td>\n",
              "    </tr>\n",
              "    <tr>\n",
              "      <th>user_11</th>\n",
              "      <td>119.0</td>\n",
              "      <td>1.000000</td>\n",
              "      <td>1.0</td>\n",
              "      <td>24.000</td>\n",
              "      <td>1.000000</td>\n",
              "    </tr>\n",
              "    <tr>\n",
              "      <th>user_15</th>\n",
              "      <td>66.0</td>\n",
              "      <td>1.000000</td>\n",
              "      <td>1.0</td>\n",
              "      <td>55.000</td>\n",
              "      <td>1.000000</td>\n",
              "    </tr>\n",
              "    <tr>\n",
              "      <th>user_20</th>\n",
              "      <td>185.0</td>\n",
              "      <td>1.000000</td>\n",
              "      <td>1.0</td>\n",
              "      <td>97.000</td>\n",
              "      <td>1.000000</td>\n",
              "    </tr>\n",
              "    <tr>\n",
              "      <th>user_21</th>\n",
              "      <td>256.0</td>\n",
              "      <td>0.888889</td>\n",
              "      <td>9.0</td>\n",
              "      <td>63.875</td>\n",
              "      <td>0.218803</td>\n",
              "    </tr>\n",
              "  </tbody>\n",
              "</table>\n",
              "</div>\n",
              "    <div class=\"colab-df-buttons\">\n",
              "\n",
              "  <div class=\"colab-df-container\">\n",
              "    <button class=\"colab-df-convert\" onclick=\"convertToInteractive('df-5fcf48de-8fde-4b58-8704-168ea8581f1d')\"\n",
              "            title=\"Convert this dataframe to an interactive table.\"\n",
              "            style=\"display:none;\">\n",
              "\n",
              "  <svg xmlns=\"http://www.w3.org/2000/svg\" height=\"24px\" viewBox=\"0 -960 960 960\">\n",
              "    <path d=\"M120-120v-720h720v720H120Zm60-500h600v-160H180v160Zm220 220h160v-160H400v160Zm0 220h160v-160H400v160ZM180-400h160v-160H180v160Zm440 0h160v-160H620v160ZM180-180h160v-160H180v160Zm440 0h160v-160H620v160Z\"/>\n",
              "  </svg>\n",
              "    </button>\n",
              "\n",
              "  <style>\n",
              "    .colab-df-container {\n",
              "      display:flex;\n",
              "      gap: 12px;\n",
              "    }\n",
              "\n",
              "    .colab-df-convert {\n",
              "      background-color: #E8F0FE;\n",
              "      border: none;\n",
              "      border-radius: 50%;\n",
              "      cursor: pointer;\n",
              "      display: none;\n",
              "      fill: #1967D2;\n",
              "      height: 32px;\n",
              "      padding: 0 0 0 0;\n",
              "      width: 32px;\n",
              "    }\n",
              "\n",
              "    .colab-df-convert:hover {\n",
              "      background-color: #E2EBFA;\n",
              "      box-shadow: 0px 1px 2px rgba(60, 64, 67, 0.3), 0px 1px 3px 1px rgba(60, 64, 67, 0.15);\n",
              "      fill: #174EA6;\n",
              "    }\n",
              "\n",
              "    .colab-df-buttons div {\n",
              "      margin-bottom: 4px;\n",
              "    }\n",
              "\n",
              "    [theme=dark] .colab-df-convert {\n",
              "      background-color: #3B4455;\n",
              "      fill: #D2E3FC;\n",
              "    }\n",
              "\n",
              "    [theme=dark] .colab-df-convert:hover {\n",
              "      background-color: #434B5C;\n",
              "      box-shadow: 0px 1px 3px 1px rgba(0, 0, 0, 0.15);\n",
              "      filter: drop-shadow(0px 1px 2px rgba(0, 0, 0, 0.3));\n",
              "      fill: #FFFFFF;\n",
              "    }\n",
              "  </style>\n",
              "\n",
              "    <script>\n",
              "      const buttonEl =\n",
              "        document.querySelector('#df-5fcf48de-8fde-4b58-8704-168ea8581f1d button.colab-df-convert');\n",
              "      buttonEl.style.display =\n",
              "        google.colab.kernel.accessAllowed ? 'block' : 'none';\n",
              "\n",
              "      async function convertToInteractive(key) {\n",
              "        const element = document.querySelector('#df-5fcf48de-8fde-4b58-8704-168ea8581f1d');\n",
              "        const dataTable =\n",
              "          await google.colab.kernel.invokeFunction('convertToInteractive',\n",
              "                                                    [key], {});\n",
              "        if (!dataTable) return;\n",
              "\n",
              "        const docLinkHtml = 'Like what you see? Visit the ' +\n",
              "          '<a target=\"_blank\" href=https://colab.research.google.com/notebooks/data_table.ipynb>data table notebook</a>'\n",
              "          + ' to learn more about interactive tables.';\n",
              "        element.innerHTML = '';\n",
              "        dataTable['output_type'] = 'display_data';\n",
              "        await google.colab.output.renderOutput(dataTable, element);\n",
              "        const docLink = document.createElement('div');\n",
              "        docLink.innerHTML = docLinkHtml;\n",
              "        element.appendChild(docLink);\n",
              "      }\n",
              "    </script>\n",
              "  </div>\n",
              "\n",
              "\n",
              "<div id=\"df-85c19478-c104-46b1-8449-c14cc2c2041f\">\n",
              "  <button class=\"colab-df-quickchart\" onclick=\"quickchart('df-85c19478-c104-46b1-8449-c14cc2c2041f')\"\n",
              "            title=\"Suggest charts\"\n",
              "            style=\"display:none;\">\n",
              "\n",
              "<svg xmlns=\"http://www.w3.org/2000/svg\" height=\"24px\"viewBox=\"0 0 24 24\"\n",
              "     width=\"24px\">\n",
              "    <g>\n",
              "        <path d=\"M19 3H5c-1.1 0-2 .9-2 2v14c0 1.1.9 2 2 2h14c1.1 0 2-.9 2-2V5c0-1.1-.9-2-2-2zM9 17H7v-7h2v7zm4 0h-2V7h2v10zm4 0h-2v-4h2v4z\"/>\n",
              "    </g>\n",
              "</svg>\n",
              "  </button>\n",
              "\n",
              "<style>\n",
              "  .colab-df-quickchart {\n",
              "      --bg-color: #E8F0FE;\n",
              "      --fill-color: #1967D2;\n",
              "      --hover-bg-color: #E2EBFA;\n",
              "      --hover-fill-color: #174EA6;\n",
              "      --disabled-fill-color: #AAA;\n",
              "      --disabled-bg-color: #DDD;\n",
              "  }\n",
              "\n",
              "  [theme=dark] .colab-df-quickchart {\n",
              "      --bg-color: #3B4455;\n",
              "      --fill-color: #D2E3FC;\n",
              "      --hover-bg-color: #434B5C;\n",
              "      --hover-fill-color: #FFFFFF;\n",
              "      --disabled-bg-color: #3B4455;\n",
              "      --disabled-fill-color: #666;\n",
              "  }\n",
              "\n",
              "  .colab-df-quickchart {\n",
              "    background-color: var(--bg-color);\n",
              "    border: none;\n",
              "    border-radius: 50%;\n",
              "    cursor: pointer;\n",
              "    display: none;\n",
              "    fill: var(--fill-color);\n",
              "    height: 32px;\n",
              "    padding: 0;\n",
              "    width: 32px;\n",
              "  }\n",
              "\n",
              "  .colab-df-quickchart:hover {\n",
              "    background-color: var(--hover-bg-color);\n",
              "    box-shadow: 0 1px 2px rgba(60, 64, 67, 0.3), 0 1px 3px 1px rgba(60, 64, 67, 0.15);\n",
              "    fill: var(--button-hover-fill-color);\n",
              "  }\n",
              "\n",
              "  .colab-df-quickchart-complete:disabled,\n",
              "  .colab-df-quickchart-complete:disabled:hover {\n",
              "    background-color: var(--disabled-bg-color);\n",
              "    fill: var(--disabled-fill-color);\n",
              "    box-shadow: none;\n",
              "  }\n",
              "\n",
              "  .colab-df-spinner {\n",
              "    border: 2px solid var(--fill-color);\n",
              "    border-color: transparent;\n",
              "    border-bottom-color: var(--fill-color);\n",
              "    animation:\n",
              "      spin 1s steps(1) infinite;\n",
              "  }\n",
              "\n",
              "  @keyframes spin {\n",
              "    0% {\n",
              "      border-color: transparent;\n",
              "      border-bottom-color: var(--fill-color);\n",
              "      border-left-color: var(--fill-color);\n",
              "    }\n",
              "    20% {\n",
              "      border-color: transparent;\n",
              "      border-left-color: var(--fill-color);\n",
              "      border-top-color: var(--fill-color);\n",
              "    }\n",
              "    30% {\n",
              "      border-color: transparent;\n",
              "      border-left-color: var(--fill-color);\n",
              "      border-top-color: var(--fill-color);\n",
              "      border-right-color: var(--fill-color);\n",
              "    }\n",
              "    40% {\n",
              "      border-color: transparent;\n",
              "      border-right-color: var(--fill-color);\n",
              "      border-top-color: var(--fill-color);\n",
              "    }\n",
              "    60% {\n",
              "      border-color: transparent;\n",
              "      border-right-color: var(--fill-color);\n",
              "    }\n",
              "    80% {\n",
              "      border-color: transparent;\n",
              "      border-right-color: var(--fill-color);\n",
              "      border-bottom-color: var(--fill-color);\n",
              "    }\n",
              "    90% {\n",
              "      border-color: transparent;\n",
              "      border-bottom-color: var(--fill-color);\n",
              "    }\n",
              "  }\n",
              "</style>\n",
              "\n",
              "  <script>\n",
              "    async function quickchart(key) {\n",
              "      const quickchartButtonEl =\n",
              "        document.querySelector('#' + key + ' button');\n",
              "      quickchartButtonEl.disabled = true;  // To prevent multiple clicks.\n",
              "      quickchartButtonEl.classList.add('colab-df-spinner');\n",
              "      try {\n",
              "        const charts = await google.colab.kernel.invokeFunction(\n",
              "            'suggestCharts', [key], {});\n",
              "      } catch (error) {\n",
              "        console.error('Error during call to suggestCharts:', error);\n",
              "      }\n",
              "      quickchartButtonEl.classList.remove('colab-df-spinner');\n",
              "      quickchartButtonEl.classList.add('colab-df-quickchart-complete');\n",
              "    }\n",
              "    (() => {\n",
              "      let quickchartButtonEl =\n",
              "        document.querySelector('#df-85c19478-c104-46b1-8449-c14cc2c2041f button');\n",
              "      quickchartButtonEl.style.display =\n",
              "        google.colab.kernel.accessAllowed ? 'block' : 'none';\n",
              "    })();\n",
              "  </script>\n",
              "</div>\n",
              "    </div>\n",
              "  </div>\n"
            ]
          },
          "metadata": {},
          "execution_count": 75
        }
      ]
    },
    {
      "cell_type": "code",
      "source": [
        "df_exchange_sessions.to_csv('exchange_sessions.csv')"
      ],
      "metadata": {
        "id": "sW__AgRnEehJ"
      },
      "execution_count": null,
      "outputs": []
    },
    {
      "cell_type": "code",
      "source": [],
      "metadata": {
        "id": "BmadtcH7EeTB"
      },
      "execution_count": null,
      "outputs": []
    },
    {
      "cell_type": "code",
      "source": [],
      "metadata": {
        "id": "8OovtEf2EeBi"
      },
      "execution_count": null,
      "outputs": []
    },
    {
      "cell_type": "code",
      "source": [],
      "metadata": {
        "id": "bNi5lRX7Cd5o"
      },
      "execution_count": null,
      "outputs": []
    },
    {
      "cell_type": "code",
      "source": [],
      "metadata": {
        "id": "8fqWgmdA0lAR"
      },
      "execution_count": null,
      "outputs": []
    }
  ]
}